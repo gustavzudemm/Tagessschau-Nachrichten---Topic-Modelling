{
 "cells": [
  {
   "cell_type": "code",
   "execution_count": 1,
   "id": "e5cb1b09",
   "metadata": {},
   "outputs": [],
   "source": [
    "import re"
   ]
  },
  {
   "cell_type": "code",
   "execution_count": 2,
   "id": "cc26a43b",
   "metadata": {},
   "outputs": [],
   "source": [
    "info_texts = ['Weitere Informationen',\n",
    "                  'Alle aktuellen Informationen und tagesschau24',\n",
    "                  'Alle Sendungen, Livestreams, Dokumentation und Reportagen',\n",
    "                  'Mehr Informationen zum Thema',\n",
    "                  'Aktuelle Entwicklungen im Liveblog',\n",
    "                  'Mehr zum Thema']\n",
    "\n",
    "info_patterns = [r'Weitere Informationen',\n",
    "                 r'Alle aktuellen Informationen und tagesschau24',\n",
    "                  r'Alle Sendungen, Livestreams, Dokumentation und Reportagen',\n",
    "                  r'Mehr Informationen zum Thema',\n",
    "                  r'Aktuelle Entwicklungen im Liveblog',\n",
    "                  r'Mehr zum Thema']\n",
    "                 \n",
    "\n",
    "\n",
    "description = ['Die Hälfte der Legislaturperiode ist fast erreicht. Wie blicken die Bürger:innen im Moment auf den Zustand des Landes? Laut dem ARD-DeutschlandTrend: eher verhalten.',\n",
    " 'Die wichtigsten Probleme sind aus Sicht der Bürger:innen Wirtschaft und Migration. Der Zuspruch für die Ampelkoalition erreicht im ARD-DeutschlandTrend einen Tiefstand – die AfD ist weiter auf Höhenflug.',\n",
    " 'Weitere Informationen zum ARD-DeutschlandTrend: ',\n",
    " 'Alle aktuellen Informationen und tagesschau24 im Livestream: ',\n",
    " 'Alle Sendungen, Livestreams, Dokumentation und Reportagen auch in der ARD-Mediathek: ']\n",
    "\n"
   ]
  },
  {
   "cell_type": "code",
   "execution_count": 3,
   "id": "e5be6d63",
   "metadata": {},
   "outputs": [
    {
     "name": "stdout",
     "output_type": "stream",
     "text": [
      "Die Hälfte der Legislaturperiode ist fast erreicht. Wie blicken die Bürger:innen im Moment auf den Zustand des Landes? Laut dem ARD-DeutschlandTrend: eher verhalten.\n",
      "Die wichtigsten Probleme sind aus Sicht der Bürger:innen Wirtschaft und Migration. Der Zuspruch für die Ampelkoalition erreicht im ARD-DeutschlandTrend einen Tiefstand – die AfD ist weiter auf Höhenflug.\n",
      "Weitere Informationen zum ARD-DeutschlandTrend: \n",
      "Alle aktuellen Informationen und tagesschau24 im Livestream: \n",
      "Alle Sendungen, Livestreams, Dokumentation und Reportagen auch in der ARD-Mediathek: \n"
     ]
    }
   ],
   "source": [
    "for i in description:\n",
    "    for i in \n",
    "    "
   ]
  },
  {
   "cell_type": "code",
   "execution_count": null,
   "id": "9b8a49de",
   "metadata": {},
   "outputs": [],
   "source": []
  }
 ],
 "metadata": {
  "kernelspec": {
   "display_name": "Python 3 (ipykernel)",
   "language": "python",
   "name": "python3"
  },
  "language_info": {
   "codemirror_mode": {
    "name": "ipython",
    "version": 3
   },
   "file_extension": ".py",
   "mimetype": "text/x-python",
   "name": "python",
   "nbconvert_exporter": "python",
   "pygments_lexer": "ipython3",
   "version": "3.11.4"
  }
 },
 "nbformat": 4,
 "nbformat_minor": 5
}
